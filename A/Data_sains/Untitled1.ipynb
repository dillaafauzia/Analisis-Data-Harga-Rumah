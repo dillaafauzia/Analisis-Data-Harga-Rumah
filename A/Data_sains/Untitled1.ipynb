{
 "cells": [
  {
   "cell_type": "code",
   "execution_count": 1,
   "id": "8dedc321-dc47-4a89-b18b-34b33fd2d7d9",
   "metadata": {},
   "outputs": [],
   "source": [
    "import pandas as pd"
   ]
  },
  {
   "cell_type": "code",
   "execution_count": 2,
   "id": "9c189ea9-d6fa-485e-912d-79ed6d24ca00",
   "metadata": {},
   "outputs": [],
   "source": [
    "df = pd.read_csv('../harga_rumah.csv')"
   ]
  },
  {
   "cell_type": "code",
   "execution_count": 3,
   "id": "680debc9-c4a1-463d-92de-d65ba4ab12c5",
   "metadata": {},
   "outputs": [
    {
     "data": {
      "text/html": [
       "<div>\n",
       "<style scoped>\n",
       "    .dataframe tbody tr th:only-of-type {\n",
       "        vertical-align: middle;\n",
       "    }\n",
       "\n",
       "    .dataframe tbody tr th {\n",
       "        vertical-align: top;\n",
       "    }\n",
       "\n",
       "    .dataframe thead th {\n",
       "        text-align: right;\n",
       "    }\n",
       "</style>\n",
       "<table border=\"1\" class=\"dataframe\">\n",
       "  <thead>\n",
       "    <tr style=\"text-align: right;\">\n",
       "      <th></th>\n",
       "      <th>harga</th>\n",
       "      <th>luas</th>\n",
       "      <th>kasur</th>\n",
       "      <th>km</th>\n",
       "    </tr>\n",
       "  </thead>\n",
       "  <tbody>\n",
       "    <tr>\n",
       "      <th>0</th>\n",
       "      <td>13300000</td>\n",
       "      <td>7420</td>\n",
       "      <td>4</td>\n",
       "      <td>2</td>\n",
       "    </tr>\n",
       "    <tr>\n",
       "      <th>1</th>\n",
       "      <td>12250000</td>\n",
       "      <td>8960</td>\n",
       "      <td>4</td>\n",
       "      <td>4</td>\n",
       "    </tr>\n",
       "    <tr>\n",
       "      <th>2</th>\n",
       "      <td>12250000</td>\n",
       "      <td>9960</td>\n",
       "      <td>3</td>\n",
       "      <td>2</td>\n",
       "    </tr>\n",
       "    <tr>\n",
       "      <th>3</th>\n",
       "      <td>12215000</td>\n",
       "      <td>7500</td>\n",
       "      <td>4</td>\n",
       "      <td>2</td>\n",
       "    </tr>\n",
       "    <tr>\n",
       "      <th>4</th>\n",
       "      <td>11410000</td>\n",
       "      <td>7420</td>\n",
       "      <td>4</td>\n",
       "      <td>1</td>\n",
       "    </tr>\n",
       "    <tr>\n",
       "      <th>...</th>\n",
       "      <td>...</td>\n",
       "      <td>...</td>\n",
       "      <td>...</td>\n",
       "      <td>...</td>\n",
       "    </tr>\n",
       "    <tr>\n",
       "      <th>540</th>\n",
       "      <td>1820000</td>\n",
       "      <td>3000</td>\n",
       "      <td>2</td>\n",
       "      <td>1</td>\n",
       "    </tr>\n",
       "    <tr>\n",
       "      <th>541</th>\n",
       "      <td>1767150</td>\n",
       "      <td>2400</td>\n",
       "      <td>3</td>\n",
       "      <td>1</td>\n",
       "    </tr>\n",
       "    <tr>\n",
       "      <th>542</th>\n",
       "      <td>1750000</td>\n",
       "      <td>3620</td>\n",
       "      <td>2</td>\n",
       "      <td>1</td>\n",
       "    </tr>\n",
       "    <tr>\n",
       "      <th>543</th>\n",
       "      <td>1750000</td>\n",
       "      <td>2910</td>\n",
       "      <td>3</td>\n",
       "      <td>1</td>\n",
       "    </tr>\n",
       "    <tr>\n",
       "      <th>544</th>\n",
       "      <td>1750000</td>\n",
       "      <td>3850</td>\n",
       "      <td>3</td>\n",
       "      <td>1</td>\n",
       "    </tr>\n",
       "  </tbody>\n",
       "</table>\n",
       "<p>545 rows × 4 columns</p>\n",
       "</div>"
      ],
      "text/plain": [
       "        harga  luas  kasur  km\n",
       "0    13300000  7420      4   2\n",
       "1    12250000  8960      4   4\n",
       "2    12250000  9960      3   2\n",
       "3    12215000  7500      4   2\n",
       "4    11410000  7420      4   1\n",
       "..        ...   ...    ...  ..\n",
       "540   1820000  3000      2   1\n",
       "541   1767150  2400      3   1\n",
       "542   1750000  3620      2   1\n",
       "543   1750000  2910      3   1\n",
       "544   1750000  3850      3   1\n",
       "\n",
       "[545 rows x 4 columns]"
      ]
     },
     "execution_count": 3,
     "metadata": {},
     "output_type": "execute_result"
    }
   ],
   "source": [
    "df"
   ]
  },
  {
   "cell_type": "code",
   "execution_count": 12,
   "id": "fc5dac0a-45ed-4efa-a2d6-959c4e85ac9d",
   "metadata": {},
   "outputs": [
    {
     "data": {
      "text/plain": [
       "13300000"
      ]
     },
     "execution_count": 12,
     "metadata": {},
     "output_type": "execute_result"
    }
   ],
   "source": [
    "#rumah dengan harga termahal#\n",
    "df['harga'].max()"
   ]
  },
  {
   "cell_type": "code",
   "execution_count": 13,
   "id": "1b0cc67e-e849-4012-83ba-2e3e69180fe4",
   "metadata": {},
   "outputs": [
    {
     "data": {
      "text/plain": [
       "1750000"
      ]
     },
     "execution_count": 13,
     "metadata": {},
     "output_type": "execute_result"
    }
   ],
   "source": [
    "#rumah dengan harga terendah#\n",
    "df['harga'].min()"
   ]
  },
  {
   "cell_type": "code",
   "execution_count": 14,
   "id": "b3a0df62-819c-4750-98c9-54149ab857fa",
   "metadata": {},
   "outputs": [
    {
     "data": {
      "text/plain": [
       "4766729.247706422"
      ]
     },
     "execution_count": 14,
     "metadata": {},
     "output_type": "execute_result"
    }
   ],
   "source": [
    "#rata-rata harga rumah#\n",
    "df['harga'].mean()"
   ]
  },
  {
   "cell_type": "code",
   "execution_count": 15,
   "id": "018b0598-40e7-42db-ab46-d0702d363927",
   "metadata": {},
   "outputs": [
    {
     "data": {
      "text/plain": [
       "16200"
      ]
     },
     "execution_count": 15,
     "metadata": {},
     "output_type": "execute_result"
    }
   ],
   "source": [
    "#rumah dengan ukuran terluas#\n",
    "df['luas'].max()"
   ]
  },
  {
   "cell_type": "code",
   "execution_count": 16,
   "id": "e78284ce-dd6a-4825-afd8-ec3591c34929",
   "metadata": {},
   "outputs": [
    {
     "data": {
      "text/plain": [
       "1650"
      ]
     },
     "execution_count": 16,
     "metadata": {},
     "output_type": "execute_result"
    }
   ],
   "source": [
    "#rumah dengan ukuran terkecil#\n",
    "df['luas'].min()"
   ]
  },
  {
   "cell_type": "code",
   "execution_count": 17,
   "id": "7e7dc014-8851-4019-857f-d4970f9c5355",
   "metadata": {},
   "outputs": [
    {
     "data": {
      "text/plain": [
       "5150.54128440367"
      ]
     },
     "execution_count": 17,
     "metadata": {},
     "output_type": "execute_result"
    }
   ],
   "source": [
    "#rata-rata luas rumah yang ditawarkan#\n",
    "df['luas'].mean()"
   ]
  },
  {
   "cell_type": "code",
   "execution_count": 11,
   "id": "ebbcf32c-ae64-4ddc-9a75-be5a12da35af",
   "metadata": {},
   "outputs": [
    {
     "data": {
      "text/plain": [
       "3500000     17\n",
       "4200000     17\n",
       "4900000     12\n",
       "3150000      9\n",
       "5600000      9\n",
       "            ..\n",
       "6580000      1\n",
       "4319000      1\n",
       "4375000      1\n",
       "4382000      1\n",
       "13300000     1\n",
       "Name: harga, Length: 219, dtype: int64"
      ]
     },
     "execution_count": 11,
     "metadata": {},
     "output_type": "execute_result"
    }
   ],
   "source": [
    "#rumah yang paling sering dibeli berdasarkan harga#\n",
    "df['harga'].value_counts()"
   ]
  },
  {
   "cell_type": "code",
   "execution_count": null,
   "id": "28a63d5a-13a4-415d-83c7-c02dd71b31a2",
   "metadata": {},
   "outputs": [],
   "source": []
  }
 ],
 "metadata": {
  "kernelspec": {
   "display_name": "Python 3 (ipykernel)",
   "language": "python",
   "name": "python3"
  },
  "language_info": {
   "codemirror_mode": {
    "name": "ipython",
    "version": 3
   },
   "file_extension": ".py",
   "mimetype": "text/x-python",
   "name": "python",
   "nbconvert_exporter": "python",
   "pygments_lexer": "ipython3",
   "version": "3.9.7"
  }
 },
 "nbformat": 4,
 "nbformat_minor": 5
}
