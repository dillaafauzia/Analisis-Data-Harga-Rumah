{
 "cells": [
  {
   "cell_type": "code",
   "execution_count": 11,
   "id": "a6f57baf-e6ff-406e-be39-04f3951c4f07",
   "metadata": {},
   "outputs": [],
   "source": [
    "import pandas as pd "
   ]
  },
  {
   "cell_type": "code",
   "execution_count": 12,
   "id": "6164d35e-a077-4b75-9b7c-7fdd843286cf",
   "metadata": {},
   "outputs": [],
   "source": [
    "df = pd.read_csv('../harga_rumah.csv')"
   ]
  },
  {
   "cell_type": "code",
   "execution_count": 13,
   "id": "700555f3-3c03-404f-b9b3-1e3d3e7b0c60",
   "metadata": {},
   "outputs": [
    {
     "data": {
      "text/html": [
       "<div>\n",
       "<style scoped>\n",
       "    .dataframe tbody tr th:only-of-type {\n",
       "        vertical-align: middle;\n",
       "    }\n",
       "\n",
       "    .dataframe tbody tr th {\n",
       "        vertical-align: top;\n",
       "    }\n",
       "\n",
       "    .dataframe thead th {\n",
       "        text-align: right;\n",
       "    }\n",
       "</style>\n",
       "<table border=\"1\" class=\"dataframe\">\n",
       "  <thead>\n",
       "    <tr style=\"text-align: right;\">\n",
       "      <th></th>\n",
       "      <th>harga</th>\n",
       "      <th>luas</th>\n",
       "      <th>kasur</th>\n",
       "      <th>km</th>\n",
       "    </tr>\n",
       "  </thead>\n",
       "  <tbody>\n",
       "    <tr>\n",
       "      <th>0</th>\n",
       "      <td>13300000</td>\n",
       "      <td>7420</td>\n",
       "      <td>4</td>\n",
       "      <td>2</td>\n",
       "    </tr>\n",
       "    <tr>\n",
       "      <th>1</th>\n",
       "      <td>12250000</td>\n",
       "      <td>8960</td>\n",
       "      <td>4</td>\n",
       "      <td>4</td>\n",
       "    </tr>\n",
       "    <tr>\n",
       "      <th>2</th>\n",
       "      <td>12250000</td>\n",
       "      <td>9960</td>\n",
       "      <td>3</td>\n",
       "      <td>2</td>\n",
       "    </tr>\n",
       "    <tr>\n",
       "      <th>3</th>\n",
       "      <td>12215000</td>\n",
       "      <td>7500</td>\n",
       "      <td>4</td>\n",
       "      <td>2</td>\n",
       "    </tr>\n",
       "    <tr>\n",
       "      <th>4</th>\n",
       "      <td>11410000</td>\n",
       "      <td>7420</td>\n",
       "      <td>4</td>\n",
       "      <td>1</td>\n",
       "    </tr>\n",
       "    <tr>\n",
       "      <th>...</th>\n",
       "      <td>...</td>\n",
       "      <td>...</td>\n",
       "      <td>...</td>\n",
       "      <td>...</td>\n",
       "    </tr>\n",
       "    <tr>\n",
       "      <th>540</th>\n",
       "      <td>1820000</td>\n",
       "      <td>3000</td>\n",
       "      <td>2</td>\n",
       "      <td>1</td>\n",
       "    </tr>\n",
       "    <tr>\n",
       "      <th>541</th>\n",
       "      <td>1767150</td>\n",
       "      <td>2400</td>\n",
       "      <td>3</td>\n",
       "      <td>1</td>\n",
       "    </tr>\n",
       "    <tr>\n",
       "      <th>542</th>\n",
       "      <td>1750000</td>\n",
       "      <td>3620</td>\n",
       "      <td>2</td>\n",
       "      <td>1</td>\n",
       "    </tr>\n",
       "    <tr>\n",
       "      <th>543</th>\n",
       "      <td>1750000</td>\n",
       "      <td>2910</td>\n",
       "      <td>3</td>\n",
       "      <td>1</td>\n",
       "    </tr>\n",
       "    <tr>\n",
       "      <th>544</th>\n",
       "      <td>1750000</td>\n",
       "      <td>3850</td>\n",
       "      <td>3</td>\n",
       "      <td>1</td>\n",
       "    </tr>\n",
       "  </tbody>\n",
       "</table>\n",
       "<p>545 rows × 4 columns</p>\n",
       "</div>"
      ],
      "text/plain": [
       "        harga  luas  kasur  km\n",
       "0    13300000  7420      4   2\n",
       "1    12250000  8960      4   4\n",
       "2    12250000  9960      3   2\n",
       "3    12215000  7500      4   2\n",
       "4    11410000  7420      4   1\n",
       "..        ...   ...    ...  ..\n",
       "540   1820000  3000      2   1\n",
       "541   1767150  2400      3   1\n",
       "542   1750000  3620      2   1\n",
       "543   1750000  2910      3   1\n",
       "544   1750000  3850      3   1\n",
       "\n",
       "[545 rows x 4 columns]"
      ]
     },
     "execution_count": 13,
     "metadata": {},
     "output_type": "execute_result"
    }
   ],
   "source": [
    "df"
   ]
  },
  {
   "cell_type": "code",
   "execution_count": 29,
   "id": "fb71acdd-7b10-42b1-b8ac-4e6e1adfaa8d",
   "metadata": {},
   "outputs": [
    {
     "data": {
      "text/plain": [
       "1750000"
      ]
     },
     "execution_count": 29,
     "metadata": {},
     "output_type": "execute_result"
    }
   ],
   "source": [
    "#harga rumah terendah#\n",
    "df['harga'].min()"
   ]
  },
  {
   "cell_type": "code",
   "execution_count": 15,
   "id": "a28ad966-b893-4f5a-8b00-4730ab224eb4",
   "metadata": {},
   "outputs": [
    {
     "data": {
      "text/plain": [
       "4766729.247706422"
      ]
     },
     "execution_count": 15,
     "metadata": {},
     "output_type": "execute_result"
    }
   ],
   "source": [
    "#rata-rata harga rumah#\n",
    "df['harga'].mean()"
   ]
  },
  {
   "cell_type": "code",
   "execution_count": 7,
   "id": "83649502-05e1-4c29-91e1-6f6a67df5352",
   "metadata": {},
   "outputs": [
    {
     "data": {
      "text/plain": [
       "16200"
      ]
     },
     "execution_count": 7,
     "metadata": {},
     "output_type": "execute_result"
    }
   ],
   "source": [
    "#rumah dengan ukuran terluas#\n",
    "df['luas'].max()"
   ]
  },
  {
   "cell_type": "code",
   "execution_count": null,
   "id": "81775bf5-96e5-42ce-a187-cdf0aa5ca58e",
   "metadata": {},
   "outputs": [
    {
     "data": {
      "text/plain": [
       "13300000"
      ]
     },
     "execution_count": 8,
     "metadata": {},
     "output_type": "execute_result"
    }
   ],
   "source": [
    "#rumah dengan harga termahal#\n",
    "df['harga'].max()"
   ]
  },
  {
   "cell_type": "code",
   "execution_count": 14,
   "id": "d0e0a7bd-e373-47a5-9a34-8729ef16a2f8",
   "metadata": {},
   "outputs": [
    {
     "data": {
      "text/plain": [
       "3500000     17\n",
       "4200000     17\n",
       "4900000     12\n",
       "3150000      9\n",
       "5600000      9\n",
       "            ..\n",
       "6580000      1\n",
       "4319000      1\n",
       "4375000      1\n",
       "4382000      1\n",
       "13300000     1\n",
       "Name: harga, Length: 219, dtype: int64"
      ]
     },
     "execution_count": 14,
     "metadata": {},
     "output_type": "execute_result"
    }
   ],
   "source": [
    "#rumah yang paling sering dibeli berdasarkan harga#\n",
    "df['harga'].value_counts()"
   ]
  },
  {
   "cell_type": "code",
   "execution_count": 24,
   "id": "2b93e95b-962e-4c8a-a924-6c03cc19738d",
   "metadata": {},
   "outputs": [
    {
     "data": {
      "text/plain": [
       "6"
      ]
     },
     "execution_count": 24,
     "metadata": {},
     "output_type": "execute_result"
    }
   ],
   "source": [
    "#jumlah kasur terbanyak di dalam rumah#\n",
    "df['kasur'].max()"
   ]
  },
  {
   "cell_type": "code",
   "execution_count": 25,
   "id": "393fe79d-adbd-48c1-bd2d-f72b18b2edb6",
   "metadata": {},
   "outputs": [
    {
     "data": {
      "text/plain": [
       "1650"
      ]
     },
     "execution_count": 25,
     "metadata": {},
     "output_type": "execute_result"
    }
   ],
   "source": [
    "#rumah dengan luas terkecil#\n",
    "df['luas'].min()"
   ]
  },
  {
   "cell_type": "code",
   "execution_count": 26,
   "id": "4a4e0169-09e3-4437-8acd-3e7cb0f62bb8",
   "metadata": {},
   "outputs": [
    {
     "data": {
      "text/plain": [
       "4"
      ]
     },
     "execution_count": 26,
     "metadata": {},
     "output_type": "execute_result"
    }
   ],
   "source": [
    "#rumah dengan jumlah kamar terbanyak#\n",
    "df['km'].max()"
   ]
  },
  {
   "cell_type": "code",
   "execution_count": 35,
   "id": "c1ad7b8d-4229-49ed-8f67-6936e9c5c43b",
   "metadata": {},
   "outputs": [
    {
     "data": {
      "text/plain": [
       "5250000    9\n",
       "5600000    9\n",
       "5950000    8\n",
       "6650000    6\n",
       "5740000    5\n",
       "          ..\n",
       "7525000    1\n",
       "7840000    1\n",
       "7875000    1\n",
       "7910000    1\n",
       "5005000    1\n",
       "Name: harga, Length: 104, dtype: int64"
      ]
     },
     "execution_count": 35,
     "metadata": {},
     "output_type": "execute_result"
    }
   ],
   "source": [
    "#jumlah rumah dengan harga di atas 5000000#\n",
    "condition = df['harga']>=5000000\n",
    "df['harga'][condition].value_counts()"
   ]
  },
  {
   "cell_type": "code",
   "execution_count": 20,
   "id": "59df718d-e7f5-4b94-9b79-3687c2f53c55",
   "metadata": {},
   "outputs": [
    {
     "data": {
      "text/plain": [
       "195"
      ]
     },
     "execution_count": 20,
     "metadata": {},
     "output_type": "execute_result"
    }
   ],
   "source": [
    "#jumlah rumah yang harganya diatas 5000000#\n",
    "condition = df['harga']>=5000000\n",
    "df['harga'][condition].count()"
   ]
  },
  {
   "cell_type": "code",
   "execution_count": 21,
   "id": "c1a5abea-bc69-4df9-8bf3-fb9b50b21e73",
   "metadata": {},
   "outputs": [
    {
     "data": {
      "text/plain": [
       "239"
      ]
     },
     "execution_count": 21,
     "metadata": {},
     "output_type": "execute_result"
    }
   ],
   "source": [
    "#jumlah rumah yang luasnya diatas 5000#\n",
    "condition = df['luas']>=5000\n",
    "df['luas'][condition].count()"
   ]
  },
  {
   "cell_type": "code",
   "execution_count": 28,
   "id": "c81c96df-0556-4934-ba2c-f082d1a8d07d",
   "metadata": {},
   "outputs": [
    {
     "data": {
      "text/plain": [
       "6000    24\n",
       "3000    14\n",
       "4500    13\n",
       "4000    11\n",
       "5500     9\n",
       "        ..\n",
       "6862     1\n",
       "4815     1\n",
       "9166     1\n",
       "6321     1\n",
       "3620     1\n",
       "Name: luas, Length: 284, dtype: int64"
      ]
     },
     "execution_count": 28,
     "metadata": {},
     "output_type": "execute_result"
    }
   ],
   "source": [
    "#rumah yang paling sering dibeli berdasarkan luas#\n",
    "df['luas'].value_counts()"
   ]
  },
  {
   "cell_type": "code",
   "execution_count": 30,
   "id": "9e5ed24a-8bd7-4218-9926-e25ac6ca4e52",
   "metadata": {},
   "outputs": [
    {
     "data": {
      "text/plain": [
       "6"
      ]
     },
     "execution_count": 30,
     "metadata": {},
     "output_type": "execute_result"
    }
   ],
   "source": [
    "#jumlah kasur terbanyak di dalam rumah#\n",
    "df['kasur'].max()"
   ]
  },
  {
   "cell_type": "code",
   "execution_count": 31,
   "id": "82fe00d7-6347-4058-88a5-dd0e8b000f5d",
   "metadata": {},
   "outputs": [
    {
     "data": {
      "text/plain": [
       "4"
      ]
     },
     "execution_count": 31,
     "metadata": {},
     "output_type": "execute_result"
    }
   ],
   "source": [
    "#rumah dengan jumlah kamar terbanyak#\n",
    "df['km'].max()"
   ]
  },
  {
   "cell_type": "code",
   "execution_count": 32,
   "id": "4915f268-fe09-451f-b33a-97c71230158d",
   "metadata": {},
   "outputs": [
    {
     "data": {
      "text/plain": [
       "1"
      ]
     },
     "execution_count": 32,
     "metadata": {},
     "output_type": "execute_result"
    }
   ],
   "source": [
    "#jumlah kasur paling sedikit di dalam rumah#\n",
    "df['kasur'].min()"
   ]
  },
  {
   "cell_type": "code",
   "execution_count": 33,
   "id": "21e0f997-e750-4f5d-807d-fa8568a64d8f",
   "metadata": {},
   "outputs": [
    {
     "data": {
      "text/plain": [
       "1"
      ]
     },
     "execution_count": 33,
     "metadata": {},
     "output_type": "execute_result"
    }
   ],
   "source": [
    "#rumah dengan jumlah kamar paling sedikit#\n",
    "df['km'].min()"
   ]
  },
  {
   "cell_type": "code",
   "execution_count": null,
   "id": "f222b8fe-3a0f-41d0-8e35-f1dc201167f6",
   "metadata": {},
   "outputs": [],
   "source": []
  }
 ],
 "metadata": {
  "kernelspec": {
   "display_name": "Python 3 (ipykernel)",
   "language": "python",
   "name": "python3"
  },
  "language_info": {
   "codemirror_mode": {
    "name": "ipython",
    "version": 3
   },
   "file_extension": ".py",
   "mimetype": "text/x-python",
   "name": "python",
   "nbconvert_exporter": "python",
   "pygments_lexer": "ipython3",
   "version": "3.9.7"
  }
 },
 "nbformat": 4,
 "nbformat_minor": 5
}
